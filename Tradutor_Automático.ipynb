{
 "cells": [
  {
   "cell_type": "markdown",
   "metadata": {
    "id": "zDwIGLHBAU_p"
   },
   "source": [
    "### Tradução Automática de Texto\n",
    "\n",
    "Link dataset: http://www.manythings.org/anki/"
   ]
  },
  {
   "cell_type": "markdown",
   "metadata": {
    "id": "4jieW2tkRZSE"
   },
   "source": [
    "#### Importação das Bibliotecas"
   ]
  },
  {
   "cell_type": "code",
   "execution_count": null,
   "metadata": {
    "id": "vY-B4FjdgtTu"
   },
   "outputs": [],
   "source": [
    "import numpy as np\n",
    "import pandas as pd\n",
    "import matplotlib.pyplot as plt\n",
    "import re\n",
    "\n",
    "from sklearn.model_selection import train_test_split\n",
    "\n",
    "from keras import  layers  \n",
    "from keras.models import Sequential\n",
    "from keras.callbacks import ModelCheckpoint\n",
    "from keras.preprocessing.text import Tokenizer"
   ]
  },
  {
   "cell_type": "markdown",
   "metadata": {
    "id": "c7hnwb0dRm5U"
   },
   "source": [
    "#### Importação dos Dados"
   ]
  },
  {
   "cell_type": "code",
   "execution_count": null,
   "metadata": {
    "colab": {
     "base_uri": "https://localhost:8080/",
     "height": 204
    },
    "id": "6saDRLwBhGgM",
    "outputId": "1f6afa22-a0ea-44d3-a004-b8bd5c8a1e8d"
   },
   "outputs": [
    {
     "data": {
      "text/html": [
       "\n",
       "  <div id=\"df-e2d7c2a5-757a-4ce8-a19a-be5405fcda81\">\n",
       "    <div class=\"colab-df-container\">\n",
       "      <div>\n",
       "<style scoped>\n",
       "    .dataframe tbody tr th:only-of-type {\n",
       "        vertical-align: middle;\n",
       "    }\n",
       "\n",
       "    .dataframe tbody tr th {\n",
       "        vertical-align: top;\n",
       "    }\n",
       "\n",
       "    .dataframe thead th {\n",
       "        text-align: right;\n",
       "    }\n",
       "</style>\n",
       "<table border=\"1\" class=\"dataframe\">\n",
       "  <thead>\n",
       "    <tr style=\"text-align: right;\">\n",
       "      <th></th>\n",
       "      <th>ingles</th>\n",
       "      <th>portugues</th>\n",
       "      <th>none</th>\n",
       "    </tr>\n",
       "  </thead>\n",
       "  <tbody>\n",
       "    <tr>\n",
       "      <th>0</th>\n",
       "      <td>Go.</td>\n",
       "      <td>Vai.</td>\n",
       "      <td>CC-BY 2.0 (France) Attribution: tatoeba.org #2...</td>\n",
       "    </tr>\n",
       "    <tr>\n",
       "      <th>1</th>\n",
       "      <td>Go.</td>\n",
       "      <td>Vá.</td>\n",
       "      <td>CC-BY 2.0 (France) Attribution: tatoeba.org #2...</td>\n",
       "    </tr>\n",
       "    <tr>\n",
       "      <th>2</th>\n",
       "      <td>Hi.</td>\n",
       "      <td>Oi.</td>\n",
       "      <td>CC-BY 2.0 (France) Attribution: tatoeba.org #5...</td>\n",
       "    </tr>\n",
       "    <tr>\n",
       "      <th>3</th>\n",
       "      <td>Run!</td>\n",
       "      <td>Corre!</td>\n",
       "      <td>CC-BY 2.0 (France) Attribution: tatoeba.org #9...</td>\n",
       "    </tr>\n",
       "    <tr>\n",
       "      <th>4</th>\n",
       "      <td>Run!</td>\n",
       "      <td>Corra!</td>\n",
       "      <td>CC-BY 2.0 (France) Attribution: tatoeba.org #9...</td>\n",
       "    </tr>\n",
       "  </tbody>\n",
       "</table>\n",
       "</div>\n",
       "      <button class=\"colab-df-convert\" onclick=\"convertToInteractive('df-e2d7c2a5-757a-4ce8-a19a-be5405fcda81')\"\n",
       "              title=\"Convert this dataframe to an interactive table.\"\n",
       "              style=\"display:none;\">\n",
       "        \n",
       "  <svg xmlns=\"http://www.w3.org/2000/svg\" height=\"24px\"viewBox=\"0 0 24 24\"\n",
       "       width=\"24px\">\n",
       "    <path d=\"M0 0h24v24H0V0z\" fill=\"none\"/>\n",
       "    <path d=\"M18.56 5.44l.94 2.06.94-2.06 2.06-.94-2.06-.94-.94-2.06-.94 2.06-2.06.94zm-11 1L8.5 8.5l.94-2.06 2.06-.94-2.06-.94L8.5 2.5l-.94 2.06-2.06.94zm10 10l.94 2.06.94-2.06 2.06-.94-2.06-.94-.94-2.06-.94 2.06-2.06.94z\"/><path d=\"M17.41 7.96l-1.37-1.37c-.4-.4-.92-.59-1.43-.59-.52 0-1.04.2-1.43.59L10.3 9.45l-7.72 7.72c-.78.78-.78 2.05 0 2.83L4 21.41c.39.39.9.59 1.41.59.51 0 1.02-.2 1.41-.59l7.78-7.78 2.81-2.81c.8-.78.8-2.07 0-2.86zM5.41 20L4 18.59l7.72-7.72 1.47 1.35L5.41 20z\"/>\n",
       "  </svg>\n",
       "      </button>\n",
       "      \n",
       "  <style>\n",
       "    .colab-df-container {\n",
       "      display:flex;\n",
       "      flex-wrap:wrap;\n",
       "      gap: 12px;\n",
       "    }\n",
       "\n",
       "    .colab-df-convert {\n",
       "      background-color: #E8F0FE;\n",
       "      border: none;\n",
       "      border-radius: 50%;\n",
       "      cursor: pointer;\n",
       "      display: none;\n",
       "      fill: #1967D2;\n",
       "      height: 32px;\n",
       "      padding: 0 0 0 0;\n",
       "      width: 32px;\n",
       "    }\n",
       "\n",
       "    .colab-df-convert:hover {\n",
       "      background-color: #E2EBFA;\n",
       "      box-shadow: 0px 1px 2px rgba(60, 64, 67, 0.3), 0px 1px 3px 1px rgba(60, 64, 67, 0.15);\n",
       "      fill: #174EA6;\n",
       "    }\n",
       "\n",
       "    [theme=dark] .colab-df-convert {\n",
       "      background-color: #3B4455;\n",
       "      fill: #D2E3FC;\n",
       "    }\n",
       "\n",
       "    [theme=dark] .colab-df-convert:hover {\n",
       "      background-color: #434B5C;\n",
       "      box-shadow: 0px 1px 3px 1px rgba(0, 0, 0, 0.15);\n",
       "      filter: drop-shadow(0px 1px 2px rgba(0, 0, 0, 0.3));\n",
       "      fill: #FFFFFF;\n",
       "    }\n",
       "  </style>\n",
       "\n",
       "      <script>\n",
       "        const buttonEl =\n",
       "          document.querySelector('#df-e2d7c2a5-757a-4ce8-a19a-be5405fcda81 button.colab-df-convert');\n",
       "        buttonEl.style.display =\n",
       "          google.colab.kernel.accessAllowed ? 'block' : 'none';\n",
       "\n",
       "        async function convertToInteractive(key) {\n",
       "          const element = document.querySelector('#df-e2d7c2a5-757a-4ce8-a19a-be5405fcda81');\n",
       "          const dataTable =\n",
       "            await google.colab.kernel.invokeFunction('convertToInteractive',\n",
       "                                                     [key], {});\n",
       "          if (!dataTable) return;\n",
       "\n",
       "          const docLinkHtml = 'Like what you see? Visit the ' +\n",
       "            '<a target=\"_blank\" href=https://colab.research.google.com/notebooks/data_table.ipynb>data table notebook</a>'\n",
       "            + ' to learn more about interactive tables.';\n",
       "          element.innerHTML = '';\n",
       "          dataTable['output_type'] = 'display_data';\n",
       "          await google.colab.output.renderOutput(dataTable, element);\n",
       "          const docLink = document.createElement('div');\n",
       "          docLink.innerHTML = docLinkHtml;\n",
       "          element.appendChild(docLink);\n",
       "        }\n",
       "      </script>\n",
       "    </div>\n",
       "  </div>\n",
       "  "
      ],
      "text/plain": [
       "  ingles portugues                                               none\n",
       "0    Go.      Vai.  CC-BY 2.0 (France) Attribution: tatoeba.org #2...\n",
       "1    Go.       Vá.  CC-BY 2.0 (France) Attribution: tatoeba.org #2...\n",
       "2    Hi.       Oi.  CC-BY 2.0 (France) Attribution: tatoeba.org #5...\n",
       "3   Run!    Corre!  CC-BY 2.0 (France) Attribution: tatoeba.org #9...\n",
       "4   Run!    Corra!  CC-BY 2.0 (France) Attribution: tatoeba.org #9..."
      ]
     },
     "execution_count": 3,
     "metadata": {},
     "output_type": "execute_result"
    }
   ],
   "source": [
    "path = '/content/drive/MyDrive/Trabalho - Deep Learning/Texto/por-eng/por.txt'\n",
    "df = pd.read_table(path, header=None, names=['ingles', 'portugues', 'none'])\n",
    "df.head()"
   ]
  },
  {
   "cell_type": "code",
   "execution_count": null,
   "metadata": {
    "id": "2pebT8KOFXTK"
   },
   "outputs": [],
   "source": [
    "df = df[['ingles', 'portugues']]"
   ]
  },
  {
   "cell_type": "code",
   "execution_count": null,
   "metadata": {
    "colab": {
     "base_uri": "https://localhost:8080/"
    },
    "id": "YEAbsxoSh6qF",
    "outputId": "be0d3e36-362b-4e74-f9f4-776d627d88e9"
   },
   "outputs": [
    {
     "name": "stdout",
     "output_type": "stream",
     "text": [
      "Amostras: 179252\n"
     ]
    }
   ],
   "source": [
    "print(f'Amostras: {df.shape[0]}')"
   ]
  },
  {
   "cell_type": "markdown",
   "metadata": {
    "id": "5HqLrDm_SJFu"
   },
   "source": [
    "#### Remoção de Caracteres"
   ]
  },
  {
   "cell_type": "code",
   "execution_count": null,
   "metadata": {
    "id": "TV0EgWu5R4-K"
   },
   "outputs": [],
   "source": [
    "pre_process = lambda x: re.sub(r'[^\\w\\s]', '', x.lower())"
   ]
  },
  {
   "cell_type": "code",
   "execution_count": null,
   "metadata": {
    "id": "z66jdpevivJ1"
   },
   "outputs": [],
   "source": [
    "df['ingles'] = df['ingles'].apply(pre_process)\n",
    "df['portugues'] = df['portugues'].apply(pre_process)"
   ]
  },
  {
   "cell_type": "markdown",
   "metadata": {
    "id": "X1XuXxTi8mjO"
   },
   "source": [
    "#### Tokenização"
   ]
  },
  {
   "cell_type": "code",
   "execution_count": null,
   "metadata": {
    "id": "mPfc3_1viqBV"
   },
   "outputs": [],
   "source": [
    "def tokenization(text):\n",
    "    tokens = Tokenizer()\n",
    "    tokens.fit_on_texts(text)\n",
    "    return tokens"
   ]
  },
  {
   "cell_type": "code",
   "execution_count": null,
   "metadata": {
    "id": "NDVgUMaxmcSX"
   },
   "outputs": [],
   "source": [
    "ing_tok = tokenization(df['ingles'])\n",
    "por_tok = tokenization(df['portugues'])"
   ]
  },
  {
   "cell_type": "code",
   "execution_count": null,
   "metadata": {
    "colab": {
     "base_uri": "https://localhost:8080/"
    },
    "id": "EPv4mEBQnV2d",
    "outputId": "1ce081c9-fa09-4691-8524-43a1f753724d"
   },
   "outputs": [
    {
     "name": "stdout",
     "output_type": "stream",
     "text": [
      "Tamanho vocabulário Inglês: 13130\n",
      "Tamanho vocabulário Português: 23008\n"
     ]
    }
   ],
   "source": [
    "vocab_ing = len(ing_tok.word_index) + 1\n",
    "vocab_por = len(por_tok.word_index) + 1\n",
    "\n",
    "print(f'Tamanho vocabulário Inglês: {vocab_ing}')\n",
    "print(f'Tamanho vocabulário Português: {vocab_por}')"
   ]
  },
  {
   "cell_type": "markdown",
   "metadata": {
    "id": "CXAaSZpN8yjS"
   },
   "source": [
    "#### Análise das Sentenças"
   ]
  },
  {
   "cell_type": "code",
   "execution_count": null,
   "metadata": {
    "id": "toqEJt1aWIJ7"
   },
   "outputs": [],
   "source": [
    "size_sentence = lambda x: len(x.split())"
   ]
  },
  {
   "cell_type": "code",
   "execution_count": null,
   "metadata": {
    "id": "7qD587Wynq_J"
   },
   "outputs": [],
   "source": [
    "df['size_ing'] = df['ingles'].apply(size_sentence)\n",
    "df['size_por'] = df['portugues'].apply(size_sentence)"
   ]
  },
  {
   "cell_type": "code",
   "execution_count": null,
   "metadata": {
    "colab": {
     "base_uri": "https://localhost:8080/"
    },
    "id": "7HZXzWefo2mK",
    "outputId": "8a2884e3-c38f-492b-aeef-2bcd09f22547"
   },
   "outputs": [
    {
     "name": "stdout",
     "output_type": "stream",
     "text": [
      "35\n",
      "33\n"
     ]
    }
   ],
   "source": [
    "print(df['size_ing'].max())\n",
    "print(df['size_por'].max())"
   ]
  },
  {
   "cell_type": "code",
   "execution_count": null,
   "metadata": {
    "colab": {
     "base_uri": "https://localhost:8080/",
     "height": 444
    },
    "id": "AcNcsGBVZhH7",
    "outputId": "ca6a9a52-6dd7-4c74-b4ad-ca0c866c53ec"
   },
   "outputs": [
    {
     "data": {
      "image/png": "[encoded data removed]",
      "text/plain": [
       "<Figure size 1440x504 with 2 Axes>"
      ]
     },
     "metadata": {
      "needs_background": "light"
     },
     "output_type": "display_data"
    }
   ],
   "source": [
    "df[['size_ing', 'size_por']].hist(bins=70, figsize=(20, 7));"
   ]
  },
  {
   "cell_type": "markdown",
   "metadata": {
    "id": "EYl17mxSbglj"
   },
   "source": [
    "#### Vetorização"
   ]
  },
  {
   "cell_type": "code",
   "execution_count": null,
   "metadata": {
    "id": "JACKA-Tps4y7"
   },
   "outputs": [],
   "source": [
    "def vectorize(serie, size, seq_leng, eng=True):\n",
    "  vector = np.zeros((size, seq_leng))\n",
    "  for i, sentence in enumerate(serie):\n",
    "    for j, word in enumerate(sentence.split()):\n",
    "      if j == 13:\n",
    "        break\n",
    "      if eng:\n",
    "        vector[i, j] = ing_tok.word_index[word]\n",
    "      else:\n",
    "        vector[i, j] = por_tok.word_index[word]\n",
    "  return vector"
   ]
  },
  {
   "cell_type": "code",
   "execution_count": null,
   "metadata": {
    "id": "zW6c9yLCJnfE"
   },
   "outputs": [],
   "source": [
    "size = df.shape[0]"
   ]
  },
  {
   "cell_type": "code",
   "execution_count": null,
   "metadata": {
    "id": "RdTdQT3nunkc"
   },
   "outputs": [],
   "source": [
    "seq_eng = vectorize(df['ingles'], size, 13)\n",
    "seq_por = vectorize(df['portugues'], size, 13, eng=False)"
   ]
  },
  {
   "cell_type": "markdown",
   "metadata": {
    "id": "jq4oRLB19Bmx"
   },
   "source": [
    "#### Divisão dos Dados"
   ]
  },
  {
   "cell_type": "code",
   "execution_count": null,
   "metadata": {
    "id": "Okl7pGul3AR9"
   },
   "outputs": [],
   "source": [
    "train_eng, test_eng, train_por, test_por = train_test_split(seq_eng, seq_por, test_size=0.2, random_state=42)"
   ]
  },
  {
   "cell_type": "markdown",
   "metadata": {
    "id": "NwMUTVp-9FTf"
   },
   "source": [
    "#### Criação do Modelo"
   ]
  },
  {
   "cell_type": "code",
   "execution_count": null,
   "metadata": {
    "id": "FXSwMz-XcbId"
   },
   "outputs": [],
   "source": [
    "model = Sequential()\n",
    "model.add(layers.Embedding(vocab_ing, 512, input_length=13, mask_zero=True))\n",
    "model.add(layers.LSTM(512))\n",
    "model.add(layers.RepeatVector(13))\n",
    "model.add(layers.LSTM(512, return_sequences=True))\n",
    "model.add(layers.Dense(vocab_por, activation='softmax'))"
   ]
  },
  {
   "cell_type": "code",
   "execution_count": null,
   "metadata": {
    "colab": {
     "base_uri": "https://localhost:8080/"
    },
    "id": "LLg5jGWZdnuO",
    "outputId": "ace460cc-2fb5-49d3-a198-7a72a76b853e"
   },
   "outputs": [
    {
     "name": "stdout",
     "output_type": "stream",
     "text": [
      "Model: \"sequential\"\n",
      "_________________________________________________________________\n",
      " Layer (type)                Output Shape              Param #   \n",
      "=================================================================\n",
      " embedding (Embedding)       (None, 13, 512)           6722560   \n",
      "                                                                 \n",
      " lstm (LSTM)                 (None, 512)               2099200   \n",
      "                                                                 \n",
      " repeat_vector (RepeatVector  (None, 13, 512)          0         \n",
      " )                                                               \n",
      "                                                                 \n",
      " lstm_1 (LSTM)               (None, 13, 512)           2099200   \n",
      "                                                                 \n",
      " dense (Dense)               (None, 13, 23008)         11803104  \n",
      "                                                                 \n",
      "=================================================================\n",
      "Total params: 22,724,064\n",
      "Trainable params: 22,724,064\n",
      "Non-trainable params: 0\n",
      "_________________________________________________________________\n"
     ]
    }
   ],
   "source": [
    "model.summary()"
   ]
  },
  {
   "cell_type": "code",
   "execution_count": null,
   "metadata": {
    "id": "jALcdWfj4pd0"
   },
   "outputs": [],
   "source": [
    "model.compile(optimizer='rmsprop', loss='sparse_categorical_crossentropy')"
   ]
  },
  {
   "cell_type": "markdown",
   "metadata": {
    "id": "yvP9mN069Iy6"
   },
   "source": [
    "#### Treino"
   ]
  },
  {
   "cell_type": "code",
   "execution_count": null,
   "metadata": {
    "colab": {
     "base_uri": "https://localhost:8080/"
    },
    "id": "HhIorDoD4yuS",
    "outputId": "4502704a-be50-4d25-c810-a0f4385e1458"
   },
   "outputs": [],
   "source": [
    "filename = '/content/drive/MyDrive/Trabalho - Deep Learning/Texto/modelv2.h1.24_jan_19'\n",
    "checkpoint = ModelCheckpoint(filename, \n",
    "                             monitor='val_loss', \n",
    "                             verbose=1, \n",
    "                             save_best_only=True, \n",
    "                             mode='min')\n",
    "\n",
    "# train model\n",
    "history = model.fit(train_eng, train_por.reshape(train_por.shape[0], train_por.shape[1], 1),\n",
    "                    epochs=30, \n",
    "                    batch_size=512, \n",
    "                    validation_split=0.2, \n",
    "                    callbacks=[checkpoint], \n",
    "                    verbose=1)"
   ]
  },
  {
   "cell_type": "markdown",
   "metadata": {
    "id": "UoHU375N9MiP"
   },
   "source": [
    "#### Curva de Aprendizagem"
   ]
  },
  {
   "cell_type": "code",
   "execution_count": null,
   "metadata": {
    "colab": {
     "base_uri": "https://localhost:8080/",
     "height": 463
    },
    "id": "iLueI18neZDw",
    "outputId": "c3ce9723-3b74-4537-de1e-8bbbe94f3bcc"
   },
   "outputs": [
    {
     "data": {
      "image/png": "[encoded data removed]",
      "text/plain": [
       "<Figure size 864x504 with 1 Axes>"
      ]
     },
     "metadata": {},
     "output_type": "display_data"
    }
   ],
   "source": [
    "plt.style.use('ggplot')\n",
    "plt.figure(figsize=(12, 7))\n",
    "plt.plot(history.history['loss'], '-o')\n",
    "plt.plot(history.history['val_loss'], '-o')\n",
    "plt.legend(['Train_data','Validation_data'])\n",
    "plt.title('Training Loss', fontsize=15)\n",
    "plt.xlabel('Epoch', fontsize=12)\n",
    "plt.ylabel('Loss', fontsize=12)\n",
    "plt.show();"
   ]
  },
  {
   "cell_type": "markdown",
   "metadata": {
    "id": "hqn7x0cSQta6"
   },
   "source": [
    "#### Avaliação"
   ]
  },
  {
   "cell_type": "code",
   "execution_count": null,
   "metadata": {
    "colab": {
     "base_uri": "https://localhost:8080/"
    },
    "id": "6-0z9__w7spt",
    "outputId": "995a65b2-272c-4209-cfe7-a9e660de6141"
   },
   "outputs": [
    {
     "data": {
      "text/plain": [
       "<tensorflow.python.training.tracking.util.CheckpointLoadStatus at 0x7f3bb6a6f790>"
      ]
     },
     "execution_count": 26,
     "metadata": {},
     "output_type": "execute_result"
    }
   ],
   "source": [
    "model.load_weights(filename)"
   ]
  },
  {
   "cell_type": "code",
   "execution_count": null,
   "metadata": {
    "colab": {
     "base_uri": "https://localhost:8080/"
    },
    "id": "nP4C5yQd70ao",
    "outputId": "b8468e3f-babe-4988-e52b-b090a07801fc"
   },
   "outputs": [
    {
     "name": "stdout",
     "output_type": "stream",
     "text": [
      "1121/1121 [==============================] - 10s 9ms/step - loss: 1.4223\n"
     ]
    }
   ],
   "source": [
    "loss = model.evaluate(test_eng, test_por.reshape(test_por.shape[0], test_por.shape[1], 1))"
   ]
  },
  {
   "cell_type": "markdown",
   "metadata": {
    "id": "0wa6MdoFQzhH"
   },
   "source": [
    "#### Predição"
   ]
  },
  {
   "cell_type": "code",
   "execution_count": null,
   "metadata": {
    "id": "Tz06QyH3T1gN"
   },
   "outputs": [],
   "source": [
    "y_pred = np.argmax(model.predict(test_eng[:20]), axis=-1)"
   ]
  },
  {
   "cell_type": "code",
   "execution_count": null,
   "metadata": {
    "id": "3Z9GCx3gVL-N"
   },
   "outputs": [],
   "source": [
    "def transl(encode):\n",
    "  trad = []\n",
    "  por = []\n",
    "  for y in encode:\n",
    "    for t in y:\n",
    "      if t == 0:\n",
    "        break\n",
    "      trad.append(por_tok.index_word[t])\n",
    "    por.append(' '.join(trad))\n",
    "    trad.clear()\n",
    "  return por"
   ]
  },
  {
   "cell_type": "code",
   "execution_count": null,
   "metadata": {
    "id": "_9w4kunTc73R"
   },
   "outputs": [],
   "source": [
    "dict_trad = { 'por_pred': transl(y_pred), 'por_orig' : transl(test_por[:20])}"
   ]
  },
  {
   "cell_type": "code",
   "execution_count": null,
   "metadata": {
    "colab": {
     "base_uri": "https://localhost:8080/",
     "height": 669
    },
    "id": "hhKbZHPeVsjf",
    "outputId": "e8f54209-d259-4e2a-9a52-462fd3c01c7f"
   },
   "outputs": [
    {
     "data": {
      "text/html": [
       "\n",
       "  <div id=\"df-be61682e-dc77-4cd1-9449-9666d5688566\">\n",
       "    <div class=\"colab-df-container\">\n",
       "      <div>\n",
       "<style scoped>\n",
       "    .dataframe tbody tr th:only-of-type {\n",
       "        vertical-align: middle;\n",
       "    }\n",
       "\n",
       "    .dataframe tbody tr th {\n",
       "        vertical-align: top;\n",
       "    }\n",
       "\n",
       "    .dataframe thead th {\n",
       "        text-align: right;\n",
       "    }\n",
       "</style>\n",
       "<table border=\"1\" class=\"dataframe\">\n",
       "  <thead>\n",
       "    <tr style=\"text-align: right;\">\n",
       "      <th></th>\n",
       "      <th>por_pred</th>\n",
       "      <th>por_orig</th>\n",
       "    </tr>\n",
       "  </thead>\n",
       "  <tbody>\n",
       "    <tr>\n",
       "      <th>0</th>\n",
       "      <td>tom e mary são são amigos melhores melhores</td>\n",
       "      <td>tom e mary são nossos melhores amigos</td>\n",
       "    </tr>\n",
       "    <tr>\n",
       "      <th>1</th>\n",
       "      <td>ele estava</td>\n",
       "      <td>ele estava atónito</td>\n",
       "    </tr>\n",
       "    <tr>\n",
       "      <th>2</th>\n",
       "      <td>ela sorriu no espelho</td>\n",
       "      <td>ela sorriu para si mesma no espelho</td>\n",
       "    </tr>\n",
       "    <tr>\n",
       "      <th>3</th>\n",
       "      <td>quero quero ouvir o resto da</td>\n",
       "      <td>eu quero ouvir o resto da estória</td>\n",
       "    </tr>\n",
       "    <tr>\n",
       "      <th>4</th>\n",
       "      <td>tom está está lá de dentro</td>\n",
       "      <td>o tom está lá em cima dormindo</td>\n",
       "    </tr>\n",
       "    <tr>\n",
       "      <th>5</th>\n",
       "      <td>estou ficando alto</td>\n",
       "      <td>estou ficando alta</td>\n",
       "    </tr>\n",
       "    <tr>\n",
       "      <th>6</th>\n",
       "      <td>eu pensei eu estivesse sozinho</td>\n",
       "      <td>pensei que estivesse sozinho</td>\n",
       "    </tr>\n",
       "    <tr>\n",
       "      <th>7</th>\n",
       "      <td>o tom a cantar</td>\n",
       "      <td>tom começou a cantar</td>\n",
       "    </tr>\n",
       "    <tr>\n",
       "      <th>8</th>\n",
       "      <td>quem está o cachorro do estava</td>\n",
       "      <td>quem deixou o cachorro trancado para fora</td>\n",
       "    </tr>\n",
       "    <tr>\n",
       "      <th>9</th>\n",
       "      <td>isso isso isso isso isso</td>\n",
       "      <td>isso dói para</td>\n",
       "    </tr>\n",
       "    <tr>\n",
       "      <th>10</th>\n",
       "      <td>você sabe quem é o</td>\n",
       "      <td>você sabe quem é o traidor</td>\n",
       "    </tr>\n",
       "    <tr>\n",
       "      <th>11</th>\n",
       "      <td>outro do foi foi</td>\n",
       "      <td>parte do dinheiro foi roubada</td>\n",
       "    </tr>\n",
       "    <tr>\n",
       "      <th>12</th>\n",
       "      <td>isso não foi foi</td>\n",
       "      <td>isso não foi um acidente</td>\n",
       "    </tr>\n",
       "    <tr>\n",
       "      <th>13</th>\n",
       "      <td>este dicionário está em</td>\n",
       "      <td>este remédio tem efeito imediato</td>\n",
       "    </tr>\n",
       "    <tr>\n",
       "      <th>14</th>\n",
       "      <td>ele pediu pediu conselho conselho conselho</td>\n",
       "      <td>ele pediu conselho ao amigo</td>\n",
       "    </tr>\n",
       "    <tr>\n",
       "      <th>15</th>\n",
       "      <td>tom está está um casaco casaco</td>\n",
       "      <td>tom está vestindo um casaco novo</td>\n",
       "    </tr>\n",
       "    <tr>\n",
       "      <th>16</th>\n",
       "      <td>você tem esperar</td>\n",
       "      <td>você precisa esperar</td>\n",
       "    </tr>\n",
       "    <tr>\n",
       "      <th>17</th>\n",
       "      <td>você já fez isso</td>\n",
       "      <td>você já fez isso</td>\n",
       "    </tr>\n",
       "    <tr>\n",
       "      <th>18</th>\n",
       "      <td>cuidado com atenção</td>\n",
       "      <td>veja cuidadosamente</td>\n",
       "    </tr>\n",
       "    <tr>\n",
       "      <th>19</th>\n",
       "      <td>ele deu de fazer perguntas perguntas</td>\n",
       "      <td>ele costuma fazer muitas perguntas</td>\n",
       "    </tr>\n",
       "  </tbody>\n",
       "</table>\n",
       "</div>\n",
       "      <button class=\"colab-df-convert\" onclick=\"convertToInteractive('df-be61682e-dc77-4cd1-9449-9666d5688566')\"\n",
       "              title=\"Convert this dataframe to an interactive table.\"\n",
       "              style=\"display:none;\">\n",
       "        \n",
       "  <svg xmlns=\"http://www.w3.org/2000/svg\" height=\"24px\"viewBox=\"0 0 24 24\"\n",
       "       width=\"24px\">\n",
       "    <path d=\"M0 0h24v24H0V0z\" fill=\"none\"/>\n",
       "    <path d=\"M18.56 5.44l.94 2.06.94-2.06 2.06-.94-2.06-.94-.94-2.06-.94 2.06-2.06.94zm-11 1L8.5 8.5l.94-2.06 2.06-.94-2.06-.94L8.5 2.5l-.94 2.06-2.06.94zm10 10l.94 2.06.94-2.06 2.06-.94-2.06-.94-.94-2.06-.94 2.06-2.06.94z\"/><path d=\"M17.41 7.96l-1.37-1.37c-.4-.4-.92-.59-1.43-.59-.52 0-1.04.2-1.43.59L10.3 9.45l-7.72 7.72c-.78.78-.78 2.05 0 2.83L4 21.41c.39.39.9.59 1.41.59.51 0 1.02-.2 1.41-.59l7.78-7.78 2.81-2.81c.8-.78.8-2.07 0-2.86zM5.41 20L4 18.59l7.72-7.72 1.47 1.35L5.41 20z\"/>\n",
       "  </svg>\n",
       "      </button>\n",
       "      \n",
       "  <style>\n",
       "    .colab-df-container {\n",
       "      display:flex;\n",
       "      flex-wrap:wrap;\n",
       "      gap: 12px;\n",
       "    }\n",
       "\n",
       "    .colab-df-convert {\n",
       "      background-color: #E8F0FE;\n",
       "      border: none;\n",
       "      border-radius: 50%;\n",
       "      cursor: pointer;\n",
       "      display: none;\n",
       "      fill: #1967D2;\n",
       "      height: 32px;\n",
       "      padding: 0 0 0 0;\n",
       "      width: 32px;\n",
       "    }\n",
       "\n",
       "    .colab-df-convert:hover {\n",
       "      background-color: #E2EBFA;\n",
       "      box-shadow: 0px 1px 2px rgba(60, 64, 67, 0.3), 0px 1px 3px 1px rgba(60, 64, 67, 0.15);\n",
       "      fill: #174EA6;\n",
       "    }\n",
       "\n",
       "    [theme=dark] .colab-df-convert {\n",
       "      background-color: #3B4455;\n",
       "      fill: #D2E3FC;\n",
       "    }\n",
       "\n",
       "    [theme=dark] .colab-df-convert:hover {\n",
       "      background-color: #434B5C;\n",
       "      box-shadow: 0px 1px 3px 1px rgba(0, 0, 0, 0.15);\n",
       "      filter: drop-shadow(0px 1px 2px rgba(0, 0, 0, 0.3));\n",
       "      fill: #FFFFFF;\n",
       "    }\n",
       "  </style>\n",
       "\n",
       "      <script>\n",
       "        const buttonEl =\n",
       "          document.querySelector('#df-be61682e-dc77-4cd1-9449-9666d5688566 button.colab-df-convert');\n",
       "        buttonEl.style.display =\n",
       "          google.colab.kernel.accessAllowed ? 'block' : 'none';\n",
       "\n",
       "        async function convertToInteractive(key) {\n",
       "          const element = document.querySelector('#df-be61682e-dc77-4cd1-9449-9666d5688566');\n",
       "          const dataTable =\n",
       "            await google.colab.kernel.invokeFunction('convertToInteractive',\n",
       "                                                     [key], {});\n",
       "          if (!dataTable) return;\n",
       "\n",
       "          const docLinkHtml = 'Like what you see? Visit the ' +\n",
       "            '<a target=\"_blank\" href=https://colab.research.google.com/notebooks/data_table.ipynb>data table notebook</a>'\n",
       "            + ' to learn more about interactive tables.';\n",
       "          element.innerHTML = '';\n",
       "          dataTable['output_type'] = 'display_data';\n",
       "          await google.colab.output.renderOutput(dataTable, element);\n",
       "          const docLink = document.createElement('div');\n",
       "          docLink.innerHTML = docLinkHtml;\n",
       "          element.appendChild(docLink);\n",
       "        }\n",
       "      </script>\n",
       "    </div>\n",
       "  </div>\n",
       "  "
      ],
      "text/plain": [
       "                                       por_pred                                   por_orig\n",
       "0   tom e mary são são amigos melhores melhores      tom e mary são nossos melhores amigos\n",
       "1                                    ele estava                         ele estava atónito\n",
       "2                         ela sorriu no espelho        ela sorriu para si mesma no espelho\n",
       "3                  quero quero ouvir o resto da          eu quero ouvir o resto da estória\n",
       "4                    tom está está lá de dentro             o tom está lá em cima dormindo\n",
       "5                            estou ficando alto                         estou ficando alta\n",
       "6                eu pensei eu estivesse sozinho               pensei que estivesse sozinho\n",
       "7                                o tom a cantar                       tom começou a cantar\n",
       "8                quem está o cachorro do estava  quem deixou o cachorro trancado para fora\n",
       "9                      isso isso isso isso isso                              isso dói para\n",
       "10                           você sabe quem é o                 você sabe quem é o traidor\n",
       "11                             outro do foi foi              parte do dinheiro foi roubada\n",
       "12                             isso não foi foi                   isso não foi um acidente\n",
       "13                      este dicionário está em           este remédio tem efeito imediato\n",
       "14   ele pediu pediu conselho conselho conselho                ele pediu conselho ao amigo\n",
       "15               tom está está um casaco casaco           tom está vestindo um casaco novo\n",
       "16                             você tem esperar                       você precisa esperar\n",
       "17                             você já fez isso                           você já fez isso\n",
       "18                          cuidado com atenção                        veja cuidadosamente\n",
       "19         ele deu de fazer perguntas perguntas         ele costuma fazer muitas perguntas"
      ]
     },
     "execution_count": 31,
     "metadata": {},
     "output_type": "execute_result"
    }
   ],
   "source": [
    "df_trad = pd.DataFrame(dict_trad)\n",
    "df_trad"
   ]
  }
 ],
 "metadata": {
  "accelerator": "GPU",
  "colab": {
   "collapsed_sections": [],
   "name": "Tradutor Automático.ipynb",
   "provenance": []
  },
  "kernelspec": {
   "display_name": "Python 3",
   "language": "python",
   "name": "python3"
  },
  "language_info": {
   "codemirror_mode": {
    "name": "ipython",
    "version": 3
   },
   "file_extension": ".py",
   "mimetype": "text/x-python",
   "name": "python",
   "nbconvert_exporter": "python",
   "pygments_lexer": "ipython3",
   "version": "3.7.6"
  }
 },
 "nbformat": 4,
 "nbformat_minor": 1
}
